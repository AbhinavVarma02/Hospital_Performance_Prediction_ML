{
  "nbformat": 4,
  "nbformat_minor": 0,
  "metadata": {
    "colab": {
      "provenance": [],
      "gpuType": "T4"
    },
    "kernelspec": {
      "name": "python3",
      "display_name": "Python 3"
    },
    "language_info": {
      "name": "python"
    },
    "accelerator": "GPU"
  },
  "cells": [
    {
      "cell_type": "code",
      "source": [
        "# Install gdown if not already available\n",
        "!pip install -q gdown\n",
        "\n",
        "# Replace with your actual file ID\n",
        "file_id = '1BSR0BK6wRsr7KfZMkowkp4pNa45pQAm1'  # <- Replace this with your file's ID\n",
        "output_file = 'selected-file_2012_2017_machinereadable.csv'\n",
        "\n",
        "# Download using gdown\n",
        "!gdown --id {file_id} -O {output_file}\n"
      ],
      "metadata": {
        "colab": {
          "base_uri": "https://localhost:8080/"
        },
        "id": "89w3jsBb5isM",
        "outputId": "b5844e5d-62f1-4452-b4a2-83e4a2d5d5cc"
      },
      "execution_count": null,
      "outputs": [
        {
          "output_type": "stream",
          "name": "stdout",
          "text": [
            "/usr/local/lib/python3.11/dist-packages/gdown/__main__.py:140: FutureWarning: Option `--id` was deprecated in version 4.3.1 and will be removed in 5.0. You don't need to pass it anymore to use a file ID.\n",
            "  warnings.warn(\n",
            "Downloading...\n",
            "From (original): https://drive.google.com/uc?id=1BSR0BK6wRsr7KfZMkowkp4pNa45pQAm1\n",
            "From (redirected): https://drive.google.com/uc?id=1BSR0BK6wRsr7KfZMkowkp4pNa45pQAm1&confirm=t&uuid=1151d7be-93ba-45fa-899b-93b59c5400bb\n",
            "To: /content/selected-file_2012_2017_machinereadable.csv\n",
            "100% 205M/205M [00:02<00:00, 81.1MB/s]\n"
          ]
        }
      ]
    },
    {
      "cell_type": "code",
      "source": [
        "import pandas as pd\n",
        "\n",
        "# Load the downloaded file\n",
        "df = pd.read_csv(output_file, low_memory=False)\n",
        "print(df.shape)\n",
        "df.head()\n"
      ],
      "metadata": {
        "colab": {
          "base_uri": "https://localhost:8080/",
          "height": 378
        },
        "id": "gTi_w3Uf5yEP",
        "outputId": "7d6a2e95-76c1-4324-e46f-5e2a5ac38ccd"
      },
      "execution_count": null,
      "outputs": [
        {
          "output_type": "stream",
          "name": "stdout",
          "text": [
            "(578350, 35)\n"
          ]
        },
        {
          "output_type": "execute_result",
          "data": {
            "text/plain": [
              "      FAC_NO          FAC_NAME   BEG_DATE   END_DATE  DAY_PER DATA_IND  \\\n",
              "0  106010735  ALAMEDA HOSPITAL  01JUL2011  30JUN2012      366  Audited   \n",
              "1  106010735  ALAMEDA HOSPITAL  01JUL2011  30JUN2012      366  Audited   \n",
              "2  106010735  ALAMEDA HOSPITAL  01JUL2011  30JUN2012      366  Audited   \n",
              "3  106010735  ALAMEDA HOSPITAL  01JUL2011  30JUN2012      366  Audited   \n",
              "4  106010735  ALAMEDA HOSPITAL  01JUL2011  30JUN2012      366  Audited   \n",
              "\n",
              "               AUDIT_IND   COUNTY  HSA  HFPA  ... MCAR_PRO#  MCAL_PRO#  \\\n",
              "0  Incl. Ind. Audit Adj.  Alameda    5   417  ...   05-0211  HSC00211F   \n",
              "1  Incl. Ind. Audit Adj.  Alameda    5   417  ...   05-0211  HSC00211F   \n",
              "2  Incl. Ind. Audit Adj.  Alameda    5   417  ...   05-0211  HSC00211F   \n",
              "3  Incl. Ind. Audit Adj.  Alameda    5   417  ...   05-0211  HSC00211F   \n",
              "4  Incl. Ind. Audit Adj.  Alameda    5   417  ...   05-0211  HSC00211F   \n",
              "\n",
              "   REG_MCAL# BED_LIC BED_AVL BED_STF       Variable   Amount WEB-SITE ORG-NAME  \n",
              "0  ZZR00211F     161     161     161   DAY_ MCAR_TR  12330.0      NaN      NaN  \n",
              "1  ZZR00211F     161     161     161    DAY_MCAR_MC    885.0      NaN      NaN  \n",
              "2  ZZR00211F     161     161     161    DAY_MCAL_TR  13093.0      NaN      NaN  \n",
              "3  ZZR00211F     161     161     161  DAY_ MCAL_ MC   1786.0      NaN      NaN  \n",
              "4  ZZR00211F     161     161     161       DAY_CNTY      0.0      NaN      NaN  \n",
              "\n",
              "[5 rows x 35 columns]"
            ],
            "text/html": [
              "\n",
              "  <div id=\"df-b0b70e47-d07c-4ed1-a025-ef7ef4c9da64\" class=\"colab-df-container\">\n",
              "    <div>\n",
              "<style scoped>\n",
              "    .dataframe tbody tr th:only-of-type {\n",
              "        vertical-align: middle;\n",
              "    }\n",
              "\n",
              "    .dataframe tbody tr th {\n",
              "        vertical-align: top;\n",
              "    }\n",
              "\n",
              "    .dataframe thead th {\n",
              "        text-align: right;\n",
              "    }\n",
              "</style>\n",
              "<table border=\"1\" class=\"dataframe\">\n",
              "  <thead>\n",
              "    <tr style=\"text-align: right;\">\n",
              "      <th></th>\n",
              "      <th>FAC_NO</th>\n",
              "      <th>FAC_NAME</th>\n",
              "      <th>BEG_DATE</th>\n",
              "      <th>END_DATE</th>\n",
              "      <th>DAY_PER</th>\n",
              "      <th>DATA_IND</th>\n",
              "      <th>AUDIT_IND</th>\n",
              "      <th>COUNTY</th>\n",
              "      <th>HSA</th>\n",
              "      <th>HFPA</th>\n",
              "      <th>...</th>\n",
              "      <th>MCAR_PRO#</th>\n",
              "      <th>MCAL_PRO#</th>\n",
              "      <th>REG_MCAL#</th>\n",
              "      <th>BED_LIC</th>\n",
              "      <th>BED_AVL</th>\n",
              "      <th>BED_STF</th>\n",
              "      <th>Variable</th>\n",
              "      <th>Amount</th>\n",
              "      <th>WEB-SITE</th>\n",
              "      <th>ORG-NAME</th>\n",
              "    </tr>\n",
              "  </thead>\n",
              "  <tbody>\n",
              "    <tr>\n",
              "      <th>0</th>\n",
              "      <td>106010735</td>\n",
              "      <td>ALAMEDA HOSPITAL</td>\n",
              "      <td>01JUL2011</td>\n",
              "      <td>30JUN2012</td>\n",
              "      <td>366</td>\n",
              "      <td>Audited</td>\n",
              "      <td>Incl. Ind. Audit Adj.</td>\n",
              "      <td>Alameda</td>\n",
              "      <td>5</td>\n",
              "      <td>417</td>\n",
              "      <td>...</td>\n",
              "      <td>05-0211</td>\n",
              "      <td>HSC00211F</td>\n",
              "      <td>ZZR00211F</td>\n",
              "      <td>161</td>\n",
              "      <td>161</td>\n",
              "      <td>161</td>\n",
              "      <td>DAY_ MCAR_TR</td>\n",
              "      <td>12330.0</td>\n",
              "      <td>NaN</td>\n",
              "      <td>NaN</td>\n",
              "    </tr>\n",
              "    <tr>\n",
              "      <th>1</th>\n",
              "      <td>106010735</td>\n",
              "      <td>ALAMEDA HOSPITAL</td>\n",
              "      <td>01JUL2011</td>\n",
              "      <td>30JUN2012</td>\n",
              "      <td>366</td>\n",
              "      <td>Audited</td>\n",
              "      <td>Incl. Ind. Audit Adj.</td>\n",
              "      <td>Alameda</td>\n",
              "      <td>5</td>\n",
              "      <td>417</td>\n",
              "      <td>...</td>\n",
              "      <td>05-0211</td>\n",
              "      <td>HSC00211F</td>\n",
              "      <td>ZZR00211F</td>\n",
              "      <td>161</td>\n",
              "      <td>161</td>\n",
              "      <td>161</td>\n",
              "      <td>DAY_MCAR_MC</td>\n",
              "      <td>885.0</td>\n",
              "      <td>NaN</td>\n",
              "      <td>NaN</td>\n",
              "    </tr>\n",
              "    <tr>\n",
              "      <th>2</th>\n",
              "      <td>106010735</td>\n",
              "      <td>ALAMEDA HOSPITAL</td>\n",
              "      <td>01JUL2011</td>\n",
              "      <td>30JUN2012</td>\n",
              "      <td>366</td>\n",
              "      <td>Audited</td>\n",
              "      <td>Incl. Ind. Audit Adj.</td>\n",
              "      <td>Alameda</td>\n",
              "      <td>5</td>\n",
              "      <td>417</td>\n",
              "      <td>...</td>\n",
              "      <td>05-0211</td>\n",
              "      <td>HSC00211F</td>\n",
              "      <td>ZZR00211F</td>\n",
              "      <td>161</td>\n",
              "      <td>161</td>\n",
              "      <td>161</td>\n",
              "      <td>DAY_MCAL_TR</td>\n",
              "      <td>13093.0</td>\n",
              "      <td>NaN</td>\n",
              "      <td>NaN</td>\n",
              "    </tr>\n",
              "    <tr>\n",
              "      <th>3</th>\n",
              "      <td>106010735</td>\n",
              "      <td>ALAMEDA HOSPITAL</td>\n",
              "      <td>01JUL2011</td>\n",
              "      <td>30JUN2012</td>\n",
              "      <td>366</td>\n",
              "      <td>Audited</td>\n",
              "      <td>Incl. Ind. Audit Adj.</td>\n",
              "      <td>Alameda</td>\n",
              "      <td>5</td>\n",
              "      <td>417</td>\n",
              "      <td>...</td>\n",
              "      <td>05-0211</td>\n",
              "      <td>HSC00211F</td>\n",
              "      <td>ZZR00211F</td>\n",
              "      <td>161</td>\n",
              "      <td>161</td>\n",
              "      <td>161</td>\n",
              "      <td>DAY_ MCAL_ MC</td>\n",
              "      <td>1786.0</td>\n",
              "      <td>NaN</td>\n",
              "      <td>NaN</td>\n",
              "    </tr>\n",
              "    <tr>\n",
              "      <th>4</th>\n",
              "      <td>106010735</td>\n",
              "      <td>ALAMEDA HOSPITAL</td>\n",
              "      <td>01JUL2011</td>\n",
              "      <td>30JUN2012</td>\n",
              "      <td>366</td>\n",
              "      <td>Audited</td>\n",
              "      <td>Incl. Ind. Audit Adj.</td>\n",
              "      <td>Alameda</td>\n",
              "      <td>5</td>\n",
              "      <td>417</td>\n",
              "      <td>...</td>\n",
              "      <td>05-0211</td>\n",
              "      <td>HSC00211F</td>\n",
              "      <td>ZZR00211F</td>\n",
              "      <td>161</td>\n",
              "      <td>161</td>\n",
              "      <td>161</td>\n",
              "      <td>DAY_CNTY</td>\n",
              "      <td>0.0</td>\n",
              "      <td>NaN</td>\n",
              "      <td>NaN</td>\n",
              "    </tr>\n",
              "  </tbody>\n",
              "</table>\n",
              "<p>5 rows × 35 columns</p>\n",
              "</div>\n",
              "    <div class=\"colab-df-buttons\">\n",
              "\n",
              "  <div class=\"colab-df-container\">\n",
              "    <button class=\"colab-df-convert\" onclick=\"convertToInteractive('df-b0b70e47-d07c-4ed1-a025-ef7ef4c9da64')\"\n",
              "            title=\"Convert this dataframe to an interactive table.\"\n",
              "            style=\"display:none;\">\n",
              "\n",
              "  <svg xmlns=\"http://www.w3.org/2000/svg\" height=\"24px\" viewBox=\"0 -960 960 960\">\n",
              "    <path d=\"M120-120v-720h720v720H120Zm60-500h600v-160H180v160Zm220 220h160v-160H400v160Zm0 220h160v-160H400v160ZM180-400h160v-160H180v160Zm440 0h160v-160H620v160ZM180-180h160v-160H180v160Zm440 0h160v-160H620v160Z\"/>\n",
              "  </svg>\n",
              "    </button>\n",
              "\n",
              "  <style>\n",
              "    .colab-df-container {\n",
              "      display:flex;\n",
              "      gap: 12px;\n",
              "    }\n",
              "\n",
              "    .colab-df-convert {\n",
              "      background-color: #E8F0FE;\n",
              "      border: none;\n",
              "      border-radius: 50%;\n",
              "      cursor: pointer;\n",
              "      display: none;\n",
              "      fill: #1967D2;\n",
              "      height: 32px;\n",
              "      padding: 0 0 0 0;\n",
              "      width: 32px;\n",
              "    }\n",
              "\n",
              "    .colab-df-convert:hover {\n",
              "      background-color: #E2EBFA;\n",
              "      box-shadow: 0px 1px 2px rgba(60, 64, 67, 0.3), 0px 1px 3px 1px rgba(60, 64, 67, 0.15);\n",
              "      fill: #174EA6;\n",
              "    }\n",
              "\n",
              "    .colab-df-buttons div {\n",
              "      margin-bottom: 4px;\n",
              "    }\n",
              "\n",
              "    [theme=dark] .colab-df-convert {\n",
              "      background-color: #3B4455;\n",
              "      fill: #D2E3FC;\n",
              "    }\n",
              "\n",
              "    [theme=dark] .colab-df-convert:hover {\n",
              "      background-color: #434B5C;\n",
              "      box-shadow: 0px 1px 3px 1px rgba(0, 0, 0, 0.15);\n",
              "      filter: drop-shadow(0px 1px 2px rgba(0, 0, 0, 0.3));\n",
              "      fill: #FFFFFF;\n",
              "    }\n",
              "  </style>\n",
              "\n",
              "    <script>\n",
              "      const buttonEl =\n",
              "        document.querySelector('#df-b0b70e47-d07c-4ed1-a025-ef7ef4c9da64 button.colab-df-convert');\n",
              "      buttonEl.style.display =\n",
              "        google.colab.kernel.accessAllowed ? 'block' : 'none';\n",
              "\n",
              "      async function convertToInteractive(key) {\n",
              "        const element = document.querySelector('#df-b0b70e47-d07c-4ed1-a025-ef7ef4c9da64');\n",
              "        const dataTable =\n",
              "          await google.colab.kernel.invokeFunction('convertToInteractive',\n",
              "                                                    [key], {});\n",
              "        if (!dataTable) return;\n",
              "\n",
              "        const docLinkHtml = 'Like what you see? Visit the ' +\n",
              "          '<a target=\"_blank\" href=https://colab.research.google.com/notebooks/data_table.ipynb>data table notebook</a>'\n",
              "          + ' to learn more about interactive tables.';\n",
              "        element.innerHTML = '';\n",
              "        dataTable['output_type'] = 'display_data';\n",
              "        await google.colab.output.renderOutput(dataTable, element);\n",
              "        const docLink = document.createElement('div');\n",
              "        docLink.innerHTML = docLinkHtml;\n",
              "        element.appendChild(docLink);\n",
              "      }\n",
              "    </script>\n",
              "  </div>\n",
              "\n",
              "\n",
              "    <div id=\"df-ac74248d-c70d-4b89-9dd9-5b5cbda80ccd\">\n",
              "      <button class=\"colab-df-quickchart\" onclick=\"quickchart('df-ac74248d-c70d-4b89-9dd9-5b5cbda80ccd')\"\n",
              "                title=\"Suggest charts\"\n",
              "                style=\"display:none;\">\n",
              "\n",
              "<svg xmlns=\"http://www.w3.org/2000/svg\" height=\"24px\"viewBox=\"0 0 24 24\"\n",
              "     width=\"24px\">\n",
              "    <g>\n",
              "        <path d=\"M19 3H5c-1.1 0-2 .9-2 2v14c0 1.1.9 2 2 2h14c1.1 0 2-.9 2-2V5c0-1.1-.9-2-2-2zM9 17H7v-7h2v7zm4 0h-2V7h2v10zm4 0h-2v-4h2v4z\"/>\n",
              "    </g>\n",
              "</svg>\n",
              "      </button>\n",
              "\n",
              "<style>\n",
              "  .colab-df-quickchart {\n",
              "      --bg-color: #E8F0FE;\n",
              "      --fill-color: #1967D2;\n",
              "      --hover-bg-color: #E2EBFA;\n",
              "      --hover-fill-color: #174EA6;\n",
              "      --disabled-fill-color: #AAA;\n",
              "      --disabled-bg-color: #DDD;\n",
              "  }\n",
              "\n",
              "  [theme=dark] .colab-df-quickchart {\n",
              "      --bg-color: #3B4455;\n",
              "      --fill-color: #D2E3FC;\n",
              "      --hover-bg-color: #434B5C;\n",
              "      --hover-fill-color: #FFFFFF;\n",
              "      --disabled-bg-color: #3B4455;\n",
              "      --disabled-fill-color: #666;\n",
              "  }\n",
              "\n",
              "  .colab-df-quickchart {\n",
              "    background-color: var(--bg-color);\n",
              "    border: none;\n",
              "    border-radius: 50%;\n",
              "    cursor: pointer;\n",
              "    display: none;\n",
              "    fill: var(--fill-color);\n",
              "    height: 32px;\n",
              "    padding: 0;\n",
              "    width: 32px;\n",
              "  }\n",
              "\n",
              "  .colab-df-quickchart:hover {\n",
              "    background-color: var(--hover-bg-color);\n",
              "    box-shadow: 0 1px 2px rgba(60, 64, 67, 0.3), 0 1px 3px 1px rgba(60, 64, 67, 0.15);\n",
              "    fill: var(--button-hover-fill-color);\n",
              "  }\n",
              "\n",
              "  .colab-df-quickchart-complete:disabled,\n",
              "  .colab-df-quickchart-complete:disabled:hover {\n",
              "    background-color: var(--disabled-bg-color);\n",
              "    fill: var(--disabled-fill-color);\n",
              "    box-shadow: none;\n",
              "  }\n",
              "\n",
              "  .colab-df-spinner {\n",
              "    border: 2px solid var(--fill-color);\n",
              "    border-color: transparent;\n",
              "    border-bottom-color: var(--fill-color);\n",
              "    animation:\n",
              "      spin 1s steps(1) infinite;\n",
              "  }\n",
              "\n",
              "  @keyframes spin {\n",
              "    0% {\n",
              "      border-color: transparent;\n",
              "      border-bottom-color: var(--fill-color);\n",
              "      border-left-color: var(--fill-color);\n",
              "    }\n",
              "    20% {\n",
              "      border-color: transparent;\n",
              "      border-left-color: var(--fill-color);\n",
              "      border-top-color: var(--fill-color);\n",
              "    }\n",
              "    30% {\n",
              "      border-color: transparent;\n",
              "      border-left-color: var(--fill-color);\n",
              "      border-top-color: var(--fill-color);\n",
              "      border-right-color: var(--fill-color);\n",
              "    }\n",
              "    40% {\n",
              "      border-color: transparent;\n",
              "      border-right-color: var(--fill-color);\n",
              "      border-top-color: var(--fill-color);\n",
              "    }\n",
              "    60% {\n",
              "      border-color: transparent;\n",
              "      border-right-color: var(--fill-color);\n",
              "    }\n",
              "    80% {\n",
              "      border-color: transparent;\n",
              "      border-right-color: var(--fill-color);\n",
              "      border-bottom-color: var(--fill-color);\n",
              "    }\n",
              "    90% {\n",
              "      border-color: transparent;\n",
              "      border-bottom-color: var(--fill-color);\n",
              "    }\n",
              "  }\n",
              "</style>\n",
              "\n",
              "      <script>\n",
              "        async function quickchart(key) {\n",
              "          const quickchartButtonEl =\n",
              "            document.querySelector('#' + key + ' button');\n",
              "          quickchartButtonEl.disabled = true;  // To prevent multiple clicks.\n",
              "          quickchartButtonEl.classList.add('colab-df-spinner');\n",
              "          try {\n",
              "            const charts = await google.colab.kernel.invokeFunction(\n",
              "                'suggestCharts', [key], {});\n",
              "          } catch (error) {\n",
              "            console.error('Error during call to suggestCharts:', error);\n",
              "          }\n",
              "          quickchartButtonEl.classList.remove('colab-df-spinner');\n",
              "          quickchartButtonEl.classList.add('colab-df-quickchart-complete');\n",
              "        }\n",
              "        (() => {\n",
              "          let quickchartButtonEl =\n",
              "            document.querySelector('#df-ac74248d-c70d-4b89-9dd9-5b5cbda80ccd button');\n",
              "          quickchartButtonEl.style.display =\n",
              "            google.colab.kernel.accessAllowed ? 'block' : 'none';\n",
              "        })();\n",
              "      </script>\n",
              "    </div>\n",
              "\n",
              "    </div>\n",
              "  </div>\n"
            ],
            "application/vnd.google.colaboratory.intrinsic+json": {
              "type": "dataframe",
              "variable_name": "df"
            }
          },
          "metadata": {},
          "execution_count": 2
        }
      ]
    },
    {
      "cell_type": "code",
      "source": [
        "#Select and retain only relevant columns\n",
        "key_columns = ['FAC_NAME', 'BED_LIC', 'BED_AVL', 'BED_STF', 'COUNTY', 'DAY_PER', 'Variable', 'Amount']\n",
        "df = df[key_columns]\n",
        "\n",
        "#Check for null values in these selected columns\n",
        "null_summary = df.isnull().sum().to_frame(name='Null Count')\n",
        "null_summary['Percent Missing'] = (null_summary['Null Count'] / len(df)) * 100\n",
        "null_summary = null_summary[null_summary['Null Count'] > 0]\n",
        "null_summary"
      ],
      "metadata": {
        "colab": {
          "base_uri": "https://localhost:8080/",
          "height": 89
        },
        "id": "lUrmeT6t67Bt",
        "outputId": "0a8b0d71-c1a3-434a-82bc-03e224b1e8f6"
      },
      "execution_count": null,
      "outputs": [
        {
          "output_type": "execute_result",
          "data": {
            "text/plain": [
              "        Null Count  Percent Missing\n",
              "COUNTY         430         0.074349"
            ],
            "text/html": [
              "\n",
              "  <div id=\"df-b96d522d-ea24-4eab-b376-2160040d6b35\" class=\"colab-df-container\">\n",
              "    <div>\n",
              "<style scoped>\n",
              "    .dataframe tbody tr th:only-of-type {\n",
              "        vertical-align: middle;\n",
              "    }\n",
              "\n",
              "    .dataframe tbody tr th {\n",
              "        vertical-align: top;\n",
              "    }\n",
              "\n",
              "    .dataframe thead th {\n",
              "        text-align: right;\n",
              "    }\n",
              "</style>\n",
              "<table border=\"1\" class=\"dataframe\">\n",
              "  <thead>\n",
              "    <tr style=\"text-align: right;\">\n",
              "      <th></th>\n",
              "      <th>Null Count</th>\n",
              "      <th>Percent Missing</th>\n",
              "    </tr>\n",
              "  </thead>\n",
              "  <tbody>\n",
              "    <tr>\n",
              "      <th>COUNTY</th>\n",
              "      <td>430</td>\n",
              "      <td>0.074349</td>\n",
              "    </tr>\n",
              "  </tbody>\n",
              "</table>\n",
              "</div>\n",
              "    <div class=\"colab-df-buttons\">\n",
              "\n",
              "  <div class=\"colab-df-container\">\n",
              "    <button class=\"colab-df-convert\" onclick=\"convertToInteractive('df-b96d522d-ea24-4eab-b376-2160040d6b35')\"\n",
              "            title=\"Convert this dataframe to an interactive table.\"\n",
              "            style=\"display:none;\">\n",
              "\n",
              "  <svg xmlns=\"http://www.w3.org/2000/svg\" height=\"24px\" viewBox=\"0 -960 960 960\">\n",
              "    <path d=\"M120-120v-720h720v720H120Zm60-500h600v-160H180v160Zm220 220h160v-160H400v160Zm0 220h160v-160H400v160ZM180-400h160v-160H180v160Zm440 0h160v-160H620v160ZM180-180h160v-160H180v160Zm440 0h160v-160H620v160Z\"/>\n",
              "  </svg>\n",
              "    </button>\n",
              "\n",
              "  <style>\n",
              "    .colab-df-container {\n",
              "      display:flex;\n",
              "      gap: 12px;\n",
              "    }\n",
              "\n",
              "    .colab-df-convert {\n",
              "      background-color: #E8F0FE;\n",
              "      border: none;\n",
              "      border-radius: 50%;\n",
              "      cursor: pointer;\n",
              "      display: none;\n",
              "      fill: #1967D2;\n",
              "      height: 32px;\n",
              "      padding: 0 0 0 0;\n",
              "      width: 32px;\n",
              "    }\n",
              "\n",
              "    .colab-df-convert:hover {\n",
              "      background-color: #E2EBFA;\n",
              "      box-shadow: 0px 1px 2px rgba(60, 64, 67, 0.3), 0px 1px 3px 1px rgba(60, 64, 67, 0.15);\n",
              "      fill: #174EA6;\n",
              "    }\n",
              "\n",
              "    .colab-df-buttons div {\n",
              "      margin-bottom: 4px;\n",
              "    }\n",
              "\n",
              "    [theme=dark] .colab-df-convert {\n",
              "      background-color: #3B4455;\n",
              "      fill: #D2E3FC;\n",
              "    }\n",
              "\n",
              "    [theme=dark] .colab-df-convert:hover {\n",
              "      background-color: #434B5C;\n",
              "      box-shadow: 0px 1px 3px 1px rgba(0, 0, 0, 0.15);\n",
              "      filter: drop-shadow(0px 1px 2px rgba(0, 0, 0, 0.3));\n",
              "      fill: #FFFFFF;\n",
              "    }\n",
              "  </style>\n",
              "\n",
              "    <script>\n",
              "      const buttonEl =\n",
              "        document.querySelector('#df-b96d522d-ea24-4eab-b376-2160040d6b35 button.colab-df-convert');\n",
              "      buttonEl.style.display =\n",
              "        google.colab.kernel.accessAllowed ? 'block' : 'none';\n",
              "\n",
              "      async function convertToInteractive(key) {\n",
              "        const element = document.querySelector('#df-b96d522d-ea24-4eab-b376-2160040d6b35');\n",
              "        const dataTable =\n",
              "          await google.colab.kernel.invokeFunction('convertToInteractive',\n",
              "                                                    [key], {});\n",
              "        if (!dataTable) return;\n",
              "\n",
              "        const docLinkHtml = 'Like what you see? Visit the ' +\n",
              "          '<a target=\"_blank\" href=https://colab.research.google.com/notebooks/data_table.ipynb>data table notebook</a>'\n",
              "          + ' to learn more about interactive tables.';\n",
              "        element.innerHTML = '';\n",
              "        dataTable['output_type'] = 'display_data';\n",
              "        await google.colab.output.renderOutput(dataTable, element);\n",
              "        const docLink = document.createElement('div');\n",
              "        docLink.innerHTML = docLinkHtml;\n",
              "        element.appendChild(docLink);\n",
              "      }\n",
              "    </script>\n",
              "  </div>\n",
              "\n",
              "\n",
              "  <div id=\"id_fd47e93a-2048-4472-a115-c586624dad7a\">\n",
              "    <style>\n",
              "      .colab-df-generate {\n",
              "        background-color: #E8F0FE;\n",
              "        border: none;\n",
              "        border-radius: 50%;\n",
              "        cursor: pointer;\n",
              "        display: none;\n",
              "        fill: #1967D2;\n",
              "        height: 32px;\n",
              "        padding: 0 0 0 0;\n",
              "        width: 32px;\n",
              "      }\n",
              "\n",
              "      .colab-df-generate:hover {\n",
              "        background-color: #E2EBFA;\n",
              "        box-shadow: 0px 1px 2px rgba(60, 64, 67, 0.3), 0px 1px 3px 1px rgba(60, 64, 67, 0.15);\n",
              "        fill: #174EA6;\n",
              "      }\n",
              "\n",
              "      [theme=dark] .colab-df-generate {\n",
              "        background-color: #3B4455;\n",
              "        fill: #D2E3FC;\n",
              "      }\n",
              "\n",
              "      [theme=dark] .colab-df-generate:hover {\n",
              "        background-color: #434B5C;\n",
              "        box-shadow: 0px 1px 3px 1px rgba(0, 0, 0, 0.15);\n",
              "        filter: drop-shadow(0px 1px 2px rgba(0, 0, 0, 0.3));\n",
              "        fill: #FFFFFF;\n",
              "      }\n",
              "    </style>\n",
              "    <button class=\"colab-df-generate\" onclick=\"generateWithVariable('null_summary')\"\n",
              "            title=\"Generate code using this dataframe.\"\n",
              "            style=\"display:none;\">\n",
              "\n",
              "  <svg xmlns=\"http://www.w3.org/2000/svg\" height=\"24px\"viewBox=\"0 0 24 24\"\n",
              "       width=\"24px\">\n",
              "    <path d=\"M7,19H8.4L18.45,9,17,7.55,7,17.6ZM5,21V16.75L18.45,3.32a2,2,0,0,1,2.83,0l1.4,1.43a1.91,1.91,0,0,1,.58,1.4,1.91,1.91,0,0,1-.58,1.4L9.25,21ZM18.45,9,17,7.55Zm-12,3A5.31,5.31,0,0,0,4.9,8.1,5.31,5.31,0,0,0,1,6.5,5.31,5.31,0,0,0,4.9,4.9,5.31,5.31,0,0,0,6.5,1,5.31,5.31,0,0,0,8.1,4.9,5.31,5.31,0,0,0,12,6.5,5.46,5.46,0,0,0,6.5,12Z\"/>\n",
              "  </svg>\n",
              "    </button>\n",
              "    <script>\n",
              "      (() => {\n",
              "      const buttonEl =\n",
              "        document.querySelector('#id_fd47e93a-2048-4472-a115-c586624dad7a button.colab-df-generate');\n",
              "      buttonEl.style.display =\n",
              "        google.colab.kernel.accessAllowed ? 'block' : 'none';\n",
              "\n",
              "      buttonEl.onclick = () => {\n",
              "        google.colab.notebook.generateWithVariable('null_summary');\n",
              "      }\n",
              "      })();\n",
              "    </script>\n",
              "  </div>\n",
              "\n",
              "    </div>\n",
              "  </div>\n"
            ],
            "application/vnd.google.colaboratory.intrinsic+json": {
              "type": "dataframe",
              "variable_name": "null_summary",
              "summary": "{\n  \"name\": \"null_summary\",\n  \"rows\": 1,\n  \"fields\": [\n    {\n      \"column\": \"Null Count\",\n      \"properties\": {\n        \"dtype\": \"number\",\n        \"std\": null,\n        \"min\": 430,\n        \"max\": 430,\n        \"num_unique_values\": 1,\n        \"samples\": [\n          430\n        ],\n        \"semantic_type\": \"\",\n        \"description\": \"\"\n      }\n    },\n    {\n      \"column\": \"Percent Missing\",\n      \"properties\": {\n        \"dtype\": \"number\",\n        \"std\": null,\n        \"min\": 0.07434944237918216,\n        \"max\": 0.07434944237918216,\n        \"num_unique_values\": 1,\n        \"samples\": [\n          0.07434944237918216\n        ],\n        \"semantic_type\": \"\",\n        \"description\": \"\"\n      }\n    }\n  ]\n}"
            }
          },
          "metadata": {},
          "execution_count": 3
        }
      ]
    },
    {
      "cell_type": "markdown",
      "source": [
        "After narrowing down to 8 critical columns, we found that:\n",
        "\n",
        "- Only `COUNTY` has missing values.\n",
        "- With just **430 missing rows (~0.07%)**, the impact is minimal.\n",
        "\n",
        "Since this is a very small fraction of the dataset and COUNTY is a **categorical grouping field**, we will drop these rows to maintain consistency and avoid additional encoding issues."
      ],
      "metadata": {
        "id": "BuEkB_5O7heZ"
      }
    },
    {
      "cell_type": "code",
      "source": [
        "# Drop rows with missing values (only COUNTY has nulls)\n",
        "df = df.dropna()\n",
        "\n",
        "# Confirm new shape\n",
        "print(f\"Shape after dropping nulls: {df.shape}\")\n"
      ],
      "metadata": {
        "colab": {
          "base_uri": "https://localhost:8080/"
        },
        "id": "5j6ji2V87j9d",
        "outputId": "c960254d-1efe-4c62-d449-7e8c343c7983"
      },
      "execution_count": null,
      "outputs": [
        {
          "output_type": "stream",
          "name": "stdout",
          "text": [
            "Shape after dropping nulls: (577920, 8)\n"
          ]
        }
      ]
    },
    {
      "cell_type": "code",
      "source": [
        "# Check for duplicate rows\n",
        "duplicate_count = df.duplicated().sum()\n",
        "print(f\"Number of duplicate rows: {duplicate_count}\")\n",
        "\n",
        "# Drop duplicates if any\n",
        "df = df.drop_duplicates()\n",
        "\n",
        "# Confirm shape after duplicate removal\n",
        "print(f\"Shape after removing duplicates: {df.shape}\")\n"
      ],
      "metadata": {
        "colab": {
          "base_uri": "https://localhost:8080/"
        },
        "id": "WsX25XGJ7qIY",
        "outputId": "84962a03-0552-458c-b69d-086da8fe9740"
      },
      "execution_count": null,
      "outputs": [
        {
          "output_type": "stream",
          "name": "stdout",
          "text": [
            "Number of duplicate rows: 24898\n",
            "Shape after removing duplicates: (553022, 8)\n"
          ]
        }
      ]
    },
    {
      "cell_type": "markdown",
      "source": [
        "### Duplicate Check Summary\n",
        "\n",
        "We detected **24,898 duplicate rows** in our selected dataset, likely due to repeated facility-service entries across time or reporting inconsistencies.\n",
        "\n",
        "- These duplicates were removed using `drop_duplicates()`.\n",
        "- This brings our dataset to **553,022 unique rows**, ensuring we do not bias our models with redundant data.\n"
      ],
      "metadata": {
        "id": "hSNSa3py73Pm"
      }
    },
    {
      "cell_type": "markdown",
      "source": [
        "Now, lets focus on **Outliers** Detection and selective removal"
      ],
      "metadata": {
        "id": "U1BavCdW-FdO"
      }
    },
    {
      "cell_type": "code",
      "source": [
        "# Convert columns to numeric (coerce errors to NaN so we can detect them)\n",
        "for col in ['BED_LIC', 'BED_AVL', 'BED_STF', 'Amount']:\n",
        "    df[col] = pd.to_numeric(df[col], errors='coerce')\n"
      ],
      "metadata": {
        "id": "iDWDY0H08J4h"
      },
      "execution_count": null,
      "outputs": []
    },
    {
      "cell_type": "code",
      "source": [
        "# Drop rows with NaNs introduced by conversion\n",
        "df = df.dropna(subset=['BED_LIC', 'BED_AVL', 'BED_STF', 'Amount'])\n"
      ],
      "metadata": {
        "id": "ggjTozYg8xpI"
      },
      "execution_count": null,
      "outputs": []
    },
    {
      "cell_type": "code",
      "source": [
        "# IQR outlier count function\n",
        "def count_outliers_iqr(series):\n",
        "    Q1 = series.quantile(0.25)\n",
        "    Q3 = series.quantile(0.75)\n",
        "    IQR = Q3 - Q1\n",
        "    lower_bound = Q1 - 1.5 * IQR\n",
        "    upper_bound = Q3 + 1.5 * IQR\n",
        "    return ((series < lower_bound) | (series > upper_bound)).sum()\n",
        "\n",
        "# Recalculate outlier counts\n",
        "numeric_cols = ['BED_LIC', 'BED_AVL', 'BED_STF', 'Amount']\n",
        "outlier_counts = {col: count_outliers_iqr(df[col]) for col in numeric_cols}\n",
        "outlier_counts\n"
      ],
      "metadata": {
        "colab": {
          "base_uri": "https://localhost:8080/"
        },
        "id": "RkrX9WHV810G",
        "outputId": "b1a49d44-5b12-4ba6-bba5-bb2c91013a6e"
      },
      "execution_count": null,
      "outputs": [
        {
          "output_type": "execute_result",
          "data": {
            "text/plain": [
              "{'BED_LIC': np.int64(11267),\n",
              " 'BED_AVL': np.int64(11912),\n",
              " 'BED_STF': np.int64(17944),\n",
              " 'Amount': np.int64(112574)}"
            ]
          },
          "metadata": {},
          "execution_count": 8
        }
      ]
    },
    {
      "cell_type": "code",
      "source": [
        "# Function to remove outliers from a column using IQR\n",
        "def remove_outliers_iqr(df, col):\n",
        "    Q1 = df[col].quantile(0.25)\n",
        "    Q3 = df[col].quantile(0.75)\n",
        "    IQR = Q3 - Q1\n",
        "    lower = Q1 - 1.5 * IQR\n",
        "    upper = Q3 + 1.5 * IQR\n",
        "    filtered_df = df[(df[col] >= lower) & (df[col] <= upper)]\n",
        "    print(f\"Removed {len(df) - len(filtered_df)} outliers from '{col}'\")\n",
        "    return filtered_df\n",
        "\n",
        "# Remove outliers from input features only\n",
        "for col in ['BED_LIC', 'BED_AVL', 'BED_STF']:\n",
        "    df = remove_outliers_iqr(df, col)\n",
        "\n",
        "print(f\"Final shape after removing selected outliers: {df.shape}\")\n"
      ],
      "metadata": {
        "colab": {
          "base_uri": "https://localhost:8080/"
        },
        "id": "-f1i3kKP9F-e",
        "outputId": "94ace6f4-6113-4015-ac95-ac0a7b87c356"
      },
      "execution_count": null,
      "outputs": [
        {
          "output_type": "stream",
          "name": "stdout",
          "text": [
            "Removed 11267 outliers from 'BED_LIC'\n",
            "Removed 5590 outliers from 'BED_AVL'\n",
            "Removed 12482 outliers from 'BED_STF'\n",
            "Final shape after removing selected outliers: (513363, 8)\n"
          ]
        }
      ]
    },
    {
      "cell_type": "markdown",
      "source": [
        "### Selective Outlier Removal Summary\n",
        "\n",
        "To improve data quality without compromising model performance, we applied IQR-based outlier filtering **only** on input features — not on the target variable.\n",
        "\n",
        "Outliers removed:\n",
        "- `BED_LIC`: 11,267 rows\n",
        "- `BED_AVL`: 5,590 rows\n",
        "- `BED_STF`: 12,482 rows\n",
        "\n",
        "These features define hospital capacity, and extreme values could skew scaling and clustering. Removing their outliers helps improve model stability and interpretability.\n",
        "\n",
        "We intentionally **retained outliers in `Amount`**, our target variable. High `Amount` values reflect legitimate hospital workloads and will be better handled by robust algorithms like Random Forest and XGBoost during modeling.\n",
        "\n",
        "**Final dataset shape after filtering**: 513,363 rows × 8 columns\n"
      ],
      "metadata": {
        "id": "1NyhhFds99MC"
      }
    },
    {
      "cell_type": "markdown",
      "source": [
        "**Lets proceed with EDA**"
      ],
      "metadata": {
        "id": "Iu-JbCIK-gPb"
      }
    },
    {
      "cell_type": "markdown",
      "source": [
        "**EDA Plan**\n",
        "\n",
        "1.Distributions of BED_LIC, BED_AVL, BED_STF, Amount\n",
        "\n",
        "2.Correlations among numeric variables\n",
        "\n",
        "\n",
        "\n",
        "\n"
      ],
      "metadata": {
        "id": "A7jM0_oq-9Qr"
      }
    },
    {
      "cell_type": "code",
      "source": [
        "#Distributions of Numeric Columns\n",
        "import matplotlib.pyplot as plt\n",
        "import seaborn as sns\n",
        "\n",
        "# Set visual style\n",
        "sns.set(style='whitegrid')\n",
        "\n",
        "# Plot histograms of numeric columns\n",
        "numeric_cols = ['BED_LIC', 'BED_AVL', 'BED_STF', 'Amount']\n",
        "\n",
        "plt.figure(figsize=(16, 10))\n",
        "for i, col in enumerate(numeric_cols, 1):\n",
        "    plt.subplot(2, 2, i)\n",
        "    sns.histplot(df[col], bins=50, kde=True, color='skyblue')\n",
        "    plt.title(f\"Distribution of {col}\")\n",
        "plt.tight_layout()\n",
        "plt.show()\n"
      ],
      "metadata": {
        "colab": {
          "base_uri": "https://localhost:8080/",
          "height": 896
        },
        "id": "kju4Ux4e-A-d",
        "outputId": "f3437ce5-1be3-4462-a354-7780f473a57c"
      },
      "execution_count": null,
      "outputs": [
        {
          "output_type": "display_data",
          "data": {
            "text/plain": [
              "<Figure size 1600x1000 with 4 Axes>"
            ],
            "image/png": "[encoded data removed]"
          },
          "metadata": {}
        }
      ]
    },
    {
      "cell_type": "markdown",
      "source": [
        "### Distribution Analysis of Key Features\n",
        "\n",
        "The distribution plots of numeric features reveal the following:\n",
        "\n",
        "BED_LIC, BED_AVL, BED_STF: All are right-skewed, with most hospitals having fewer than 200 beds; small-to-medium facilities dominate.\n",
        "\n",
        "Amount: Extremely right-skewed with most values near zero and a few massive outliers (up to ~17B) driving the long tail—suggesting a handful of high-activity hospitals.\n"
      ],
      "metadata": {
        "id": "tBzhwNle_aAa"
      }
    },
    {
      "cell_type": "code",
      "source": [
        "# Calculate correlation matrix for numeric columns\n",
        "corr = df[['BED_LIC', 'BED_AVL', 'BED_STF', 'Amount']].corr()\n",
        "\n",
        "# Plot heatmap\n",
        "plt.figure(figsize=(8, 6))\n",
        "sns.heatmap(corr, annot=True, cmap='coolwarm', fmt=\".2f\", linewidths=0.5)\n",
        "plt.title(\"Correlation Heatmap: Hospital Features\", fontsize=14)\n",
        "plt.show()\n"
      ],
      "metadata": {
        "colab": {
          "base_uri": "https://localhost:8080/",
          "height": 551
        },
        "id": "8X3Uelj6BTDJ",
        "outputId": "2fc6abed-425a-410a-b3ac-99170424de28"
      },
      "execution_count": null,
      "outputs": [
        {
          "output_type": "display_data",
          "data": {
            "text/plain": [
              "<Figure size 800x600 with 2 Axes>"
            ],
            "image/png": "[encoded data removed]"
          },
          "metadata": {}
        }
      ]
    },
    {
      "cell_type": "markdown",
      "source": [
        "Correlation Summary\n",
        "BED_LIC, BED_AVL, and BED_STF show very strong positive correlations with each other (≥ 0.93), indicating that hospitals with more licensed beds also tend to have more available and staffed beds.\n",
        "\n",
        "Amount has a very weak correlation (~0.11) with all other numeric features, suggesting that hospital resource availability alone doesn't strongly predict service utilization (Amount).\n",
        "\n",
        "This weak correlation reinforces the need for machine learning to capture non-linear and complex patterns in predicting Amount.\n",
        "\n"
      ],
      "metadata": {
        "id": "gytC3CrFBlky"
      }
    },
    {
      "cell_type": "code",
      "source": [
        "# Step 1: Select relevant features for modeling\n",
        "# We're keeping only the columns needed for regression, clustering, and classification\n",
        "selected_cols = ['FAC_NAME', 'COUNTY', 'DAY_PER', 'BED_LIC', 'BED_AVL', 'BED_STF', 'Variable', 'Amount']\n",
        "df = df[selected_cols].copy()\n",
        "\n",
        "# Step 2: Encode categorical variables\n",
        "# Converting string categories to numeric labels for ML compatibility\n",
        "from sklearn.preprocessing import LabelEncoder\n",
        "\n",
        "df['FAC_ENC'] = LabelEncoder().fit_transform(df['FAC_NAME'])     # Encode facility names\n",
        "df['COUNTY_ENC'] = LabelEncoder().fit_transform(df['COUNTY'])     # Encode counties\n",
        "df['VAR_ENC'] = LabelEncoder().fit_transform(df['Variable'])      # Encode medical variables\n",
        "\n",
        "# Step 3: Final feature selection for modeling\n",
        "# Choosing numerical + encoded categorical columns as input features (X)\n",
        "feature_cols = ['BED_LIC', 'BED_AVL', 'BED_STF', 'DAY_PER', 'FAC_ENC', 'COUNTY_ENC', 'VAR_ENC']\n",
        "X = df[feature_cols]        # Independent variables\n",
        "y = df['Amount']            # Target variable for regression\n",
        "\n",
        "# Step 4: Standardize (scale) features\n",
        "# Scaling ensures equal weight and range, important for distance-based models like KMeans\n",
        "from sklearn.preprocessing import StandardScaler\n",
        "\n",
        "scaler = StandardScaler()\n",
        "X_scaled = scaler.fit_transform(X)\n"
      ],
      "metadata": {
        "id": "KbsOC2boBmxn"
      },
      "execution_count": null,
      "outputs": []
    },
    {
      "cell_type": "code",
      "source": [
        "from sklearn.linear_model import LinearRegression\n",
        "from sklearn.model_selection import train_test_split\n",
        "from sklearn.metrics import mean_squared_error, r2_score\n",
        "import numpy as np\n",
        "\n",
        "# Train-test split\n",
        "X_train, X_test, y_train, y_test = train_test_split(X_scaled, y, test_size=0.3, random_state=42)\n",
        "\n",
        "# Linear Regression\n",
        "lr = LinearRegression()\n",
        "lr.fit(X_train, y_train)\n",
        "y_pred_lr = lr.predict(X_test)\n",
        "\n",
        "# Evaluation\n",
        "rmse_lr = np.sqrt(mean_squared_error(y_test, y_pred_lr))\n",
        "r2_lr = r2_score(y_test, y_pred_lr)\n",
        "\n",
        "print(\" Linear Regression Results:\")\n",
        "print(f\"RMSE: {rmse_lr:,.2f}\")\n",
        "print(f\"R² Score: {r2_lr:.4f}\")\n"
      ],
      "metadata": {
        "colab": {
          "base_uri": "https://localhost:8080/"
        },
        "id": "cfIsaP4u-jJP",
        "outputId": "abc1b69d-e991-4522-de54-b8ee6108c9ac"
      },
      "execution_count": null,
      "outputs": [
        {
          "output_type": "stream",
          "name": "stdout",
          "text": [
            " Linear Regression Results:\n",
            "RMSE: 211,738,000.97\n",
            "R² Score: 0.0128\n"
          ]
        }
      ]
    },
    {
      "cell_type": "code",
      "source": [
        "from sklearn.ensemble import RandomForestRegressor\n",
        "\n",
        "rf = RandomForestRegressor(random_state=42)\n",
        "rf.fit(X_train, y_train)\n",
        "y_pred_rf = rf.predict(X_test)\n",
        "\n",
        "rmse_rf = np.sqrt(mean_squared_error(y_test, y_pred_rf))\n",
        "r2_rf = r2_score(y_test, y_pred_rf)\n",
        "\n",
        "print(\"Random Forest Regressor Results:\")\n",
        "print(f\"RMSE: {rmse_rf:,.2f}\")\n",
        "print(f\"R² Score: {r2_rf:.4f}\")\n"
      ],
      "metadata": {
        "colab": {
          "base_uri": "https://localhost:8080/"
        },
        "id": "qPQMnsUACHkh",
        "outputId": "6804addf-5fe8-4f07-d524-b2b28ab9d4de"
      },
      "execution_count": null,
      "outputs": [
        {
          "output_type": "stream",
          "name": "stdout",
          "text": [
            "Random Forest Regressor Results:\n",
            "RMSE: 61,604,151.82\n",
            "R² Score: 0.9164\n"
          ]
        }
      ]
    },
    {
      "cell_type": "code",
      "source": [
        "!pip install xgboost --quiet\n",
        "\n",
        "from xgboost import XGBRegressor\n",
        "\n",
        "xgb = XGBRegressor(random_state=42, verbosity=0)\n",
        "xgb.fit(X_train, y_train)\n",
        "y_pred_xgb = xgb.predict(X_test)\n",
        "\n",
        "rmse_xgb = np.sqrt(mean_squared_error(y_test, y_pred_xgb))\n",
        "r2_xgb = r2_score(y_test, y_pred_xgb)\n",
        "\n",
        "print(\"XGBoost Regressor Results:\")\n",
        "print(f\"RMSE: {rmse_xgb:,.2f}\")\n",
        "print(f\"R² Score: {r2_xgb:.4f}\")\n"
      ],
      "metadata": {
        "colab": {
          "base_uri": "https://localhost:8080/"
        },
        "id": "YkyeTeWSCJoN",
        "outputId": "86ed19a0-967d-41f5-b633-e4b2d02bfa60"
      },
      "execution_count": null,
      "outputs": [
        {
          "output_type": "stream",
          "name": "stdout",
          "text": [
            "XGBoost Regressor Results:\n",
            "RMSE: 77,446,788.77\n",
            "R² Score: 0.8679\n"
          ]
        }
      ]
    },
    {
      "cell_type": "markdown",
      "source": [],
      "metadata": {
        "id": "jxFTXZoeDGnl"
      }
    },
    {
      "cell_type": "code",
      "source": [
        "# Calculate relative error as a percentage of the maximum true Amount in y_test\n",
        "max_val = y_test.max()\n",
        "\n",
        "rel_error_lr = (rmse_lr / max_val) * 100\n",
        "rel_error_rf = (rmse_rf / max_val) * 100\n",
        "rel_error_xgb = (rmse_xgb / max_val) * 100\n",
        "\n",
        "print(\"Relative Error (% of max Amount):\")\n",
        "print(f\"Linear Regression: {rel_error_lr:.4f}%\")\n",
        "print(f\"Random Forest: {rel_error_rf:.4f}%\")\n",
        "print(f\"XGBoost: {rel_error_xgb:.4f}%\")\n"
      ],
      "metadata": {
        "colab": {
          "base_uri": "https://localhost:8080/"
        },
        "id": "C0KRHf2ZFjqD",
        "outputId": "2839768e-01ee-4cee-c675-e70b9cd07ef4"
      },
      "execution_count": null,
      "outputs": [
        {
          "output_type": "stream",
          "name": "stdout",
          "text": [
            "Relative Error (% of max Amount):\n",
            "Linear Regression: 1.2903%\n",
            "Random Forest: 0.3754%\n",
            "XGBoost: 0.4720%\n"
          ]
        }
      ]
    },
    {
      "cell_type": "markdown",
      "source": [
        "### Relative Error (% of Maximum Amount)\n",
        "\n",
        "While RMSE values seem large in raw form, they are reasonable given the scale of the target variable (`Amount`), which reaches up to **17+ billion**.\n",
        "\n",
        "When RMSE is expressed relative to the maximum observed value in the test set:\n",
        "\n",
        "- **Linear Regression**: 1.29%\n",
        "- **Random Forest**: **0.38%**\n",
        "- **XGBoost**: 0.47%\n",
        "\n",
        "This confirms that the **Random Forest model is not only the most accurate overall**, but its error margin is **less than half a percent** of the maximum value — a strong indicator of robustness and practical utility for predicting hospital resource usage.\n"
      ],
      "metadata": {
        "id": "Gj_NVhUZF93-"
      }
    },
    {
      "cell_type": "code",
      "source": [
        "# Calculate mean of true values\n",
        "mean_amount = np.mean(y_test)\n",
        "\n",
        "# Normalized RMSE\n",
        "nrmse_lr = rmse_lr / mean_amount * 100\n",
        "nrmse_rf = rmse_rf / mean_amount * 100\n",
        "nrmse_xgb = rmse_xgb / mean_amount * 100\n",
        "\n",
        "print(\"\\nNormalized RMSE (% of mean Amount):\")\n",
        "print(f\"Linear Regression: {nrmse_lr:.2f}%\")\n",
        "print(f\"Random Forest: {nrmse_rf:.2f}%\")\n",
        "print(f\"XGBoost: {nrmse_xgb:.2f}%\")\n"
      ],
      "metadata": {
        "colab": {
          "base_uri": "https://localhost:8080/"
        },
        "id": "K7n-jIr7D7k8",
        "outputId": "251b3877-c185-403f-a58d-127ec843516b"
      },
      "execution_count": null,
      "outputs": [
        {
          "output_type": "stream",
          "name": "stdout",
          "text": [
            "\n",
            "Normalized RMSE (% of mean Amount):\n",
            "Linear Regression: 665.04%\n",
            "Random Forest: 193.49%\n",
            "XGBoost: 243.25%\n"
          ]
        }
      ]
    },
    {
      "cell_type": "markdown",
      "source": [
        "### Normalized RMSE (% of Mean Amount)\n",
        "\n",
        "To further interpret model performance, we calculated RMSE as a percentage of the average `Amount` (Normalized RMSE):\n",
        "\n",
        "- **Linear Regression**: 665.04%\n",
        "- **Random Forest**: **193.49%**\n",
        "- **XGBoost**: 243.25%\n",
        "\n",
        "Random Forest again stands out as the most effective model, with error being **less than 200% of the average service usage value**, while others exhibit much higher relative errors.\n",
        "\n",
        "This reinforces that **Random Forest is the most reliable model** for predicting hospital service usage across all evaluation metrics.\n"
      ],
      "metadata": {
        "id": "hsR6q8HCGXjC"
      }
    },
    {
      "cell_type": "markdown",
      "source": [
        "# **Final Summary: Regression Model Evaluation**\n",
        "\n",
        "To predict hospital service usage (`Amount`), we built and evaluated three regression models — Linear Regression, Random Forest, and XGBoost — using standardized features derived from hospital capacity and operational metrics.\n",
        "\n",
        "**Model Insights**:\n",
        "- **Random Forest Regressor** consistently outperformed the others with:\n",
        "  - **Lowest RMSE**: 61.6 million\n",
        "  - **Highest R² Score**: 0.9164 (explains ~92% of variance)\n",
        "  - **Lowest Normalized RMSE**: 193.49%\n",
        "  - **Smallest Relative Error**: 0.38% of max value\n",
        "\n",
        "- **Linear Regression** showed poor fit, likely due to its inability to capture non-linear relationships.\n",
        "\n",
        "- **XGBoost** performed better than Linear Regression but was slightly less accurate than Random Forest.\n",
        "\n",
        "**On RMSE Interpretation**:\n",
        "While RMSE values appear large due to the target variable (`Amount`) spanning up to **17+ billion**, relative and normalized metrics confirm that prediction errors are well within acceptable ranges for large-scale healthcare data.\n",
        "\n",
        "**Conclusion**:\n",
        "**Random Forest is the best-suited model** for this regression task. It delivers strong predictive accuracy, handles feature interactions well, and provides interpretable results for resource planning and policy decisions in hospital management.\n"
      ],
      "metadata": {
        "id": "gwRhWhwPGvhG"
      }
    },
    {
      "cell_type": "markdown",
      "source": [
        "Now, **Clustering** — the goal is to group hospitals based on their resource capacity and utilization efficiency using unsupervised learning. *Please find the code in another attached code file*."
      ],
      "metadata": {
        "id": "uX8Y8wKuHSyN"
      }
    },
    {
      "cell_type": "code",
      "source": [
        "# Save cleaned DataFrame to CSV\n",
        "df.to_csv('cleaned_hospital_data.csv', index=False)\n"
      ],
      "metadata": {
        "id": "cjuUtY4sQgAs"
      },
      "execution_count": null,
      "outputs": []
    },
    {
      "cell_type": "code",
      "source": [
        "from google.colab import files\n",
        "files.download('cleaned_hospital_data.csv')\n"
      ],
      "metadata": {
        "colab": {
          "base_uri": "https://localhost:8080/",
          "height": 17
        },
        "id": "XlbGQ-YlQhbO",
        "outputId": "cda3b99d-3bbe-4dc0-9cc0-c895812850f4"
      },
      "execution_count": null,
      "outputs": [
        {
          "output_type": "display_data",
          "data": {
            "text/plain": [
              "<IPython.core.display.Javascript object>"
            ],
            "application/javascript": [
              "\n",
              "    async function download(id, filename, size) {\n",
              "      if (!google.colab.kernel.accessAllowed) {\n",
              "        return;\n",
              "      }\n",
              "      const div = document.createElement('div');\n",
              "      const label = document.createElement('label');\n",
              "      label.textContent = `Downloading \"${filename}\": `;\n",
              "      div.appendChild(label);\n",
              "      const progress = document.createElement('progress');\n",
              "      progress.max = size;\n",
              "      div.appendChild(progress);\n",
              "      document.body.appendChild(div);\n",
              "\n",
              "      const buffers = [];\n",
              "      let downloaded = 0;\n",
              "\n",
              "      const channel = await google.colab.kernel.comms.open(id);\n",
              "      // Send a message to notify the kernel that we're ready.\n",
              "      channel.send({})\n",
              "\n",
              "      for await (const message of channel.messages) {\n",
              "        // Send a message to notify the kernel that we're ready.\n",
              "        channel.send({})\n",
              "        if (message.buffers) {\n",
              "          for (const buffer of message.buffers) {\n",
              "            buffers.push(buffer);\n",
              "            downloaded += buffer.byteLength;\n",
              "            progress.value = downloaded;\n",
              "          }\n",
              "        }\n",
              "      }\n",
              "      const blob = new Blob(buffers, {type: 'application/binary'});\n",
              "      const a = document.createElement('a');\n",
              "      a.href = window.URL.createObjectURL(blob);\n",
              "      a.download = filename;\n",
              "      div.appendChild(a);\n",
              "      a.click();\n",
              "      div.remove();\n",
              "    }\n",
              "  "
            ]
          },
          "metadata": {}
        },
        {
          "output_type": "display_data",
          "data": {
            "text/plain": [
              "<IPython.core.display.Javascript object>"
            ],
            "application/javascript": [
              "download(\"download_b13135e9-046f-4e6c-8bc0-4d25f0749df9\", \"cleaned_hospital_data.csv\", 46847619)"
            ]
          },
          "metadata": {}
        }
      ]
    },
    {
      "cell_type": "code",
      "source": [],
      "metadata": {
        "id": "_vfuFR17VP6G"
      },
      "execution_count": null,
      "outputs": []
    }
  ]
}